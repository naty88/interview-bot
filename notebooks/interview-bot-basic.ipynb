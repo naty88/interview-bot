{
 "cells": [
  {
   "cell_type": "code",
   "execution_count": 1,
   "id": "df28daaf-eaf6-414e-b09b-d8a1a95550f6",
   "metadata": {},
   "source": [
    "import streamlit as st\n",
    "from openai import OpenAI\n",
    "import os\n",
    "import re"
   ],
   "outputs": []
  },
  {
   "cell_type": "code",
   "execution_count": 2,
   "id": "0e6275b9-bc6e-4cc2-afb2-7c442698179e",
   "metadata": {},
   "source": [
    "client = OpenAI(api_key=os.environ.get(\"OPENAI_API_KEY\"))"
   ],
   "outputs": []
  },
  {
   "cell_type": "code",
   "execution_count": 5,
   "id": "ca26ddfa-e877-4a9d-91a5-d28127abee73",
   "metadata": {},
   "source": [
    "JOB_DESCRIPTION = \"\"\"AUFGABEN\n",
    "                Entwicklung und Implementierung von Machine Learning-/KI-Modellen für Anwendungen, z.B. im Bereich Natural Language Processing (NLP)\n",
    "                oder Computer Vision, mit Schwerpunkt auf OpenAI-Technologien (LLM).\n",
    "                Enge Zusammenarbeit mit anderen Data Scientisten und unseren Geschäftsbereichen, Fachexperten*innen, internen und externen Dienstleistern.\n",
    "                Fallbasierte Bewertung und Beratung zur Verwendung analytischer Methoden und Ansätze (insbesondere OpenAI-Technologien) zur Verbesserung unserer Prozesse und Dienstleistungen.\n",
    "                Unterstützung von Geschäftsbereichen als interner Entwicklungspartner, von der Ideenfindung bis zur Implementierung.\n",
    "                QUALIFIKATIONEN\n",
    "                Abgeschlossenes Masterstudium in Informatik, Mathematik, Physik oder eine vergleichbare Qualifikation mit Schwerpunkt auf Maschine Learning / Künstliche Intelligenz.\n",
    "                Drei Jahre Erfahrung in der Implementierung von Maschine Learning- / KI -Modellen, einschließlich der Verwendung von OpenAI-Technologien.\n",
    "                Tiefgreifende Expertise über aktuelle Methoden im Bereich ML und KI, insbesondere Large Language Models.\n",
    "                Erfahrung mit Cloud-Computing-Plattformen, speziell Azure. Umfassende Kenntnisse relevanter Programmiersprachen,\n",
    "                einschließlich Python. Gute Kenntnisse in NLP und/oder Computer Vision. Starke analytische Fähigkeiten und die Fähigkeit, komplexe Probleme zu lösen.\n",
    "                Ausgezeichnete schriftliche und mündliche Kommunikationsfähigkeiten in Deutsch und Englisch\n",
    "                \"\"\""
   ],
   "outputs": []
  },
  {
   "cell_type": "code",
   "execution_count": 6,
   "id": "33244f3a-a6b7-45db-beb8-e01cbeecd0ef",
   "metadata": {},
   "source": [
    "EVALUATION_PROMPT = f\"\"\"Job description: {JOB_DESCRIPTION}.\n",
    "            As an AI interview assistant, your task is to evaluate the quality and depth of the candidate's responses and make a clear hiring decision for this job position.\n",
    "            Consider the following:\n",
    "            Does the candidate provide detailed answers that demonstrate their understanding and expertise?\n",
    "            Can you find tangible examples in their responses that relate to the job description?\n",
    "            Does the candidate elaborate on how they have used the necessary skills or experiences to overcome challenges or achieve results?\n",
    "            Do the responses suggest the candidate has the ability to perform well in the role's complexities and challenges?\n",
    "            If the candidate's responses are inadequate, vague, or don't clearly demonstrate the needed skills or experiences, they may not be a suitable match for the role. In such cases, tactfully communicate this by saying: \"Thank you for your responses. However, based on the answers provided, it appears there may be a misalignment with the requirements of the role we're seeking to fill. At this time, we cannot extend an offer. We appreciate your time and effort and wish you the best in your future endeavors.\"\n",
    "            If the responses indicate a strong fit for the role, then acknowledge the candidate's suitability by saying: \"Thank you for your thoughtful responses. Based on your answers, it appears that your skills, experience, and understanding align well with the requirements of the role. We will be in touch with the next steps.\"\n",
    "            \"\"\" "
   ],
   "outputs": []
  },
  {
   "cell_type": "code",
   "execution_count": 7,
   "id": "3166ccfc-e1a8-4d03-bf18-c7a4a60492f5",
   "metadata": {},
   "source": [
    "def get_response_from_model(job_description=JOB_DESCRIPTION, nmb_of_questions=6):\n",
    "    # Generate interview questions based on the job description\n",
    "    prompt = f\"Generate {nmb_of_questions} interview questions for a candidate applying for {job_description}.\"\n",
    "    response = client.chat.completions.create(\n",
    "        model=\"gpt-3.5-turbo\",\n",
    "        messages=[\n",
    "            {\"role\": \"system\", \"content\": prompt},\n",
    "            *[{\"role\": \"user\", \"content\": \"\"} for i in range(nmb_of_questions)]\n",
    "        ]\n",
    "    )\n",
    "    return response\n",
    " \n",
    "def parse_model_response(response):  # TODO: check type openai.types.chat.chat_completion.ChatCompletion\n",
    "\n",
    "    content = response.choices[0].message.content\n",
    "    # questions = re.findall(f\"\\d.\\s(.*)\\\\n*\", content)\n",
    "    questions = re.findall(r\"\\d\\..*\", content)\n",
    "    print(questions)\n",
    "    return [{question_id: question} for question_id, question in enumerate(questions)]\n",
    "    \n",
    "\n",
    "def conduct_interview(questions, answers=[]):\n",
    "    # Conduct the interview\n",
    "    print(\"Welcome to the interview!\")\n",
    "    print(\"Please answer the following questions with a maximum of 20 words each:\")\n",
    "    for i, question in enumerate(questions, 1):\n",
    "        print(f\"Question {i}: {question}\")\n",
    "        answer = input(\"Your answer: \")\n",
    "        answers.append(answer)\n",
    "        print()\n",
    "    print(\"Thank you for your answers. We will now evaluate your suitability for the position.\")\n",
    "    return answers\n",
    "\n",
    "def make_hiring_decision(answers):\n",
    "    # Make the hiring decision\n",
    "    prompt = EVALUATION_PROMPT\n",
    "    response = client.chat.completions.create(\n",
    "        model=\"gpt-3.5-turbo\",\n",
    "        messages=[\n",
    "            {\"role\": \"system\", \"content\": prompt},\n",
    "            {\"role\": \"user\", \"content\": \" \".join(answers)}\n",
    "        ],\n",
    "        presence_penalty=0.2,\n",
    "        temperature=0.1\n",
    "    )\n",
    "    return response"
   ],
   "outputs": []
  },
  {
   "cell_type": "code",
   "execution_count": 10,
   "id": "1a57975f-0c24-4791-aa8f-ba6136591505",
   "metadata": {},
   "source": [
    "response = get_response_from_model()\n",
    "questions = parse_model_response(response)"
   ],
   "outputs": []
  },
  {
   "cell_type": "code",
   "execution_count": 2,
   "id": "aa8fa159-f0ae-4c82-a6fa-b5bae826fdc9",
   "metadata": {
    "scrolled": true
   },
   "source": [
    "# usesr_answers = conduct_interview(questions)"
   ],
   "outputs": []
  },
  {
   "cell_type": "code",
   "execution_count": 3,
   "id": "7cb001d0-15a3-4f23-bcfa-a0846bae331f",
   "metadata": {},
   "source": [
    "# make_hiring_decision(usesr_answers)"
   ],
   "outputs": []
  },
  {
   "cell_type": "code",
   "execution_count": null,
   "id": "56c15e41-6295-41cd-a462-5de97feddb5d",
   "metadata": {},
   "source": [],
   "outputs": []
  },
  {
   "cell_type": "code",
   "execution_count": null,
   "id": "a1cd706f-0171-4c9d-9138-a09300fcb260",
   "metadata": {},
   "source": [],
   "outputs": []
  }
 ],
 "metadata": {
  "kernelspec": {
   "display_name": "Python 3 (ipykernel)",
   "language": "python",
   "name": "python3"
  },
  "language_info": {
   "codemirror_mode": {
    "name": "ipython",
    "version": 3
   },
   "file_extension": ".py",
   "mimetype": "text/x-python",
   "name": "python",
   "nbconvert_exporter": "python",
   "pygments_lexer": "ipython3",
   "version": "3.11.6"
  }
 },
 "nbformat": 4,
 "nbformat_minor": 5
}
