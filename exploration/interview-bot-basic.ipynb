{
 "cells": [
  {
   "cell_type": "code",
   "execution_count": 33,
   "id": "df28daaf-eaf6-414e-b09b-d8a1a95550f6",
   "metadata": {},
   "source": [
    "import streamlit as st\n",
    "from openai import OpenAI\n",
    "import os\n",
    "import re"
   ],
   "outputs": []
  },
  {
   "cell_type": "code",
   "execution_count": 2,
   "id": "0e6275b9-bc6e-4cc2-afb2-7c442698179e",
   "metadata": {},
   "source": [
    "client = OpenAI(api_key=os.environ.get(\"OPENAI_API_KEY\"))"
   ],
   "outputs": []
  },
  {
   "cell_type": "code",
   "execution_count": 3,
   "id": "ca26ddfa-e877-4a9d-91a5-d28127abee73",
   "metadata": {},
   "source": [
    "JOB_DESCRIPTION = \"\"\"Job description of advertised OpenAI Technical Expert / Data Scientist position:\n",
    "                TASKS:\n",
    "                Development and implementation of Machine Learning / Artificial Intelligence models for applications, e.g. in the area of Natural Language Processing or Computer Vision, with a focus on OpenAI technologies to improve our services and processes\n",
    "                Collaborate closely with other Data Scientists, subject matter experts, and external service providers\n",
    "                Use case-based evaluation and consulting on the use of analytical methods and approaches (especially OpenAI technologies) to improve our processes and services\n",
    "                Collaborate closely with our business units as an internal development partner, supporting them from the ideation phase to implementation\n",
    "                QUALIFICATIONS:\n",
    "                Master in computer science, mathematics, physics or a comparable qualification with a focus on Machine Learning / AI.\n",
    "                At least three years of experience in implementing Machine Learning / AI models, including the use of OpenAI technologies\n",
    "                In-depth expertise in the area of current Machine Learning / AI methods, especially Large Language Models\n",
    "                Comprehensive knowledge of relevant programming languages, including Python\n",
    "                Experience with cloud computing platforms, preferably Azure\n",
    "                Knowledge of natural language processing and/or computer vision\n",
    "                Strong analytical skills and the ability to solve complex problems\n",
    "                Strong English communication skills are required, and basic knowledge of German is preferred.\n",
    "                \"\"\""
   ],
   "outputs": []
  },
  {
   "cell_type": "code",
   "execution_count": 4,
   "id": "33244f3a-a6b7-45db-beb8-e01cbeecd0ef",
   "metadata": {},
   "source": [
    "EVALUATION_PROMPT = f\"\"\"Job description: {JOB_DESCRIPTION}.\n",
    "            As an AI interview assistant, your task is to evaluate the quality and depth of the candidate's responses and make a clear hiring decision for this job position.\n",
    "            Consider the following:\n",
    "            Does the candidate provide detailed answers that demonstrate their understanding and expertise?\n",
    "            Can you find tangible examples in their responses that relate to the job description?\n",
    "            Does the candidate elaborate on how they have used the necessary skills or experiences to overcome challenges or achieve results?\n",
    "            Do the responses suggest the candidate has the ability to perform well in the role's complexities and challenges?\n",
    "            If the candidate's responses are inadequate, vague, or don't clearly demonstrate the needed skills or experiences, they may not be a suitable match for the role. In such cases, tactfully communicate this by saying: \"Thank you for your responses. However, based on the answers provided, it appears there may be a misalignment with the requirements of the role we're seeking to fill. At this time, we cannot extend an offer. We appreciate your time and effort and wish you the best in your future endeavors.\"\n",
    "            If the responses indicate a strong fit for the role, then acknowledge the candidate's suitability by saying: \"Thank you for your thoughtful responses. Based on your answers, it appears that your skills, experience, and understanding align well with the requirements of the role. We will be in touch with the next steps.\"\n",
    "            \"\"\" "
   ],
   "outputs": []
  },
  {
   "cell_type": "code",
   "execution_count": 67,
   "id": "3166ccfc-e1a8-4d03-bf18-c7a4a60492f5",
   "metadata": {},
   "source": [
    "def get_response_from_model(job_description=JOB_DESCRIPTION, nmb_of_questions=6):\n",
    "    # Generate interview questions based on the job description\n",
    "    prompt = f\"Generate {nmb_of_questions} interview questions for a candidate applying for {job_description}.\"\n",
    "    response = client.chat.completions.create(\n",
    "        model=\"gpt-3.5-turbo\",\n",
    "        messages=[\n",
    "            {\"role\": \"system\", \"content\": prompt},\n",
    "            *[{\"role\": \"user\", \"content\": \"\"} for i in range(nmb_of_questions)]\n",
    "        ]\n",
    "    )\n",
    "    return response\n",
    " \n",
    "def parse_model_response(response):  # TODO: check type openai.types.chat.chat_completion.ChatCompletion\n",
    "\n",
    "    content = response.choices[0].message.content\n",
    "    # questions = re.findall(f\"\\d.\\s(.*)\\\\n*\", content)\n",
    "    questions = re.findall(r\"\\d\\..*\", content)\n",
    "    print(questions)\n",
    "    return [{question_id: question} for question_id, question in enumerate(questions)]\n",
    "    \n",
    "\n",
    "def conduct_interview(questions, answers=[]):\n",
    "    # Conduct the interview\n",
    "    print(\"Welcome to the interview!\")\n",
    "    print(\"Please answer the following questions with a maximum of 20 words each:\")\n",
    "    for i, question in enumerate(questions, 1):\n",
    "        print(f\"Question {i}: {question}\")\n",
    "        answer = input(\"Your answer: \")\n",
    "        answers.append(answer)\n",
    "        print()\n",
    "    print(\"Thank you for your answers. We will now evaluate your suitability for the position.\")\n",
    "    return answers\n",
    "\n",
    "def make_hiring_decision(answers):\n",
    "    # Make the hiring decision\n",
    "    prompt = EVALUATION_PROMPT\n",
    "    response = client.chat.completions.create(\n",
    "        model=\"gpt-3.5-turbo\",\n",
    "        messages=[\n",
    "            {\"role\": \"system\", \"content\": prompt},\n",
    "            {\"role\": \"user\", \"content\": \" \".join(answers)}\n",
    "        ],\n",
    "        presence_penalty=0.2,\n",
    "        temperature=0.1\n",
    "    )\n",
    "    return response"
   ],
   "outputs": []
  },
  {
   "cell_type": "code",
   "execution_count": 68,
   "id": "1a57975f-0c24-4791-aa8f-ba6136591505",
   "metadata": {},
   "source": [
    "response = get_response_from_model()\n",
    "response"
   ],
   "outputs": []
  },
  {
   "cell_type": "code",
   "execution_count": 69,
   "id": "aa8fa159-f0ae-4c82-a6fa-b5bae826fdc9",
   "metadata": {},
   "source": [
    "questions = parse_model_response(response)\n",
    "questions"
   ],
   "outputs": []
  },
  {
   "cell_type": "code",
   "execution_count": 32,
   "id": "d701230d-4b70-4275-bef0-69d2a5c1cd91",
   "metadata": {},
   "source": [
    "cont"
   ],
   "outputs": []
  },
  {
   "cell_type": "code",
   "execution_count": 58,
   "id": "b36f448c-c61f-4fe1-8a51-0335c25b2981",
   "metadata": {},
   "source": [
    "candidate_answers = conduct_interview(questions)"
   ],
   "outputs": []
  },
  {
   "cell_type": "code",
   "execution_count": 59,
   "id": "b6d95cba-04b4-41c7-b258-b2e2c83c4649",
   "metadata": {},
   "source": [
    "result = make_hiring_decision(candidate_answers)\n",
    "result"
   ],
   "outputs": []
  },
  {
   "cell_type": "code",
   "execution_count": 62,
   "id": "bd4603d6-8192-4bbd-b7e2-fadb38868527",
   "metadata": {},
   "source": [
    "l =  ['1. Can you please share a specific project in which you developed and implemented a Machine Learning or Artificial Intelligence model using OpenAI technologies? What was the outcome of the project and how did you collaborate with team members during the process?', '', '2. How do you stay updated with the latest advancements in Machine Learning and AI methods, particularly in the area of Large Language Models? Can you provide an example of a recent development in the field that you found particularly interesting or impactful?', '', '3. Can you walk us through a scenario where you provided use case-based evaluation and consulting on the use of analytical methods, specifically OpenAI technologies, to improve processes or services? How did you approach this consultation and what were the key insights or recommendations you provided to the team?']"
   ],
   "outputs": []
  },
  {
   "cell_type": "code",
   "execution_count": 63,
   "id": "52bf78b3-ee7f-4633-9737-84d224e70d3d",
   "metadata": {},
   "source": [
    "l"
   ],
   "outputs": []
  },
  {
   "cell_type": "code",
   "execution_count": 64,
   "id": "8845640a-5939-45ac-b3fb-4e91cd5f3288",
   "metadata": {},
   "source": [
    "list(filter(lambda x: x!=\"\", l))"
   ],
   "outputs": []
  },
  {
   "cell_type": "code",
   "execution_count": 58,
   "id": "c9934731-1b7b-4243-8093-81043e7d33d2",
   "metadata": {},
   "source": [
    "l"
   ],
   "outputs": []
  },
  {
   "cell_type": "code",
   "execution_count": 70,
   "id": "7cb001d0-15a3-4f23-bcfa-a0846bae331f",
   "metadata": {},
   "source": [
    "d = {0: '1. Can you discuss a specific project where you applied OpenAI technologies, such as Large Language Models, to improve services or processes? What challenges did you face, and how did you overcome them?'}\n",
    "d"
   ],
   "outputs": []
  },
  {
   "cell_type": "code",
   "execution_count": 74,
   "id": "0c454634-74ab-479d-8ff3-f06d370df7f9",
   "metadata": {},
   "source": [
    "d.values()"
   ],
   "outputs": []
  },
  {
   "cell_type": "code",
   "execution_count": null,
   "id": "98180282-715e-4ae6-b266-021884135093",
   "metadata": {},
   "source": [],
   "outputs": []
  }
 ],
 "metadata": {
  "kernelspec": {
   "display_name": "Python 3 (ipykernel)",
   "language": "python",
   "name": "python3"
  },
  "language_info": {
   "codemirror_mode": {
    "name": "ipython",
    "version": 3
   },
   "file_extension": ".py",
   "mimetype": "text/x-python",
   "name": "python",
   "nbconvert_exporter": "python",
   "pygments_lexer": "ipython3",
   "version": "3.11.7"
  }
 },
 "nbformat": 4,
 "nbformat_minor": 5
}
